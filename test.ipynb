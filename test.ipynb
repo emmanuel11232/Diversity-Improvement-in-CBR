{
 "cells": [
  {
   "cell_type": "code",
   "execution_count": 1,
   "metadata": {},
   "outputs": [],
   "source": [
    "import pandas as pd\n",
    "import warnings\n",
    "\n",
    "path = r'/home/dwd/proj/Diversity-Improvement-in-CBR/CleanedDATA V12-05-2021.csv'\n",
    "df = pd.read_csv(path, sep=';', encoding='windows-1252')\n",
    "\n",
    "warnings.filterwarnings('ignore')\n",
    "\n",
    "series = df['Publication identifier,,,,,,,,,,,,,,,,,,']\n",
    "for i in range(len(series)):\n",
    "    j_comma = series[i].find(',')\n",
    "    if j_comma > 0:\n",
    "        series[i] = series[i][:j_comma]\n",
    "    \n",
    "df.rename(columns={'Publication identifier,,,,,,,,,,,,,,,,,,': 'Publication identifier'}, inplace=True)\n",
    "# df.to_csv(path, sep=';', index=False, encoding='windows-1252')"
   ]
  },
  {
   "cell_type": "code",
   "execution_count": 2,
   "metadata": {},
   "outputs": [
    {
     "data": {
      "text/plain": [
       "[(Case 0, 1.0),\n",
       " (Case 11, 1.0),\n",
       " (Case 1, 0.9800000000000001),\n",
       " (Case 47, 0.9800000000000001),\n",
       " (Case 48, 0.9800000000000001)]"
      ]
     },
     "execution_count": 2,
     "metadata": {},
     "output_type": "execute_result"
    }
   ],
   "source": [
    "from utils.case import Query, Case, Description, GC, Solution\n",
    "from utils.casebase import CaseBase, MCNN_CaseBase\n",
    "from utils.utils import retrieve_topk\n",
    "\n",
    "# Build the case base from the dataframe\n",
    "attr_names = ['Task', 'Case study type', 'Case study', 'Online/Off-line', 'Input for the model',\n",
    "                    'Model Approach', 'Model Type', 'Models', 'Data Pre-processing', 'Complementary notes', 'Publication identifier',\n",
    "                    'Performance indicator', 'Performance', 'Publication Year']\n",
    "df = df[attr_names]\n",
    "cb = CaseBase.from_dataframe(df)\n",
    "\n",
    "# Build the query\n",
    "df_qry = df[attr_names[:5]]\n",
    "query = Query.from_series(df_qry.iloc[0])\n",
    "\n",
    "# Retrieve the top-5 most similar cases to the query.\n",
    "retrieve_topk(query, cb, weights=[1, 1, 1, 1, 1], k=5)\n"
   ]
  },
  {
   "cell_type": "code",
   "execution_count": 3,
   "metadata": {},
   "outputs": [],
   "source": [
    "descriptions = []\n",
    "solutions = []\n",
    "for c in cb.cases:\n",
    "    desc, sol = c.to_desc_sol_pair(desc_attrs=attr_names[:5], sol_attrs=attr_names[5:])\n",
    "    descriptions.append(desc)\n",
    "    solutions.append(sol)\n",
    "\n",
    "# Generalize\n",
    "def add_description(desc: Description, cb: MCNN_CaseBase):\n",
    "\n",
    "    if len(cb.descriptions) == 0:\n",
    "        cb.descriptions.append(desc)\n",
    "    else:    \n",
    "        desc0, sim = cb.retrieve_topk(desc, k=1)[0]\n",
    "        if sim > cb.thr_desc:\n",
    "            # Generalize descriptions to GC\n",
    "            if isinstance(desc0, GC):\n",
    "                # Add the description to the existing GC\n",
    "                desc0.add_description(desc)\n",
    "            else:\n",
    "                # Create a new GC from 2 descriptions\n",
    "                gc = GC(descriptions=[desc0, desc], _id=desc0._id)\n",
    "                # Update the case base\n",
    "                cb.descriptions.remove(desc0)\n",
    "                cb.descriptions.append(gc)\n",
    "        else:\n",
    "            cb.descriptions.append(desc)\n",
    "\n",
    "# TODO: relink to description\n",
    "def add_solution(sol: Solution, cb: MCNN_CaseBase):\n",
    "    if len(cb.solutions) == 0:\n",
    "        cb.solutions.append(sol)\n",
    "    else:\n",
    "        sol0, sim = cb.retrieve_topk_sol(sol, k=1)[0]\n",
    "        # Generalize solutions\n",
    "        if sim > cb.thr_sol:\n",
    "            if sol0.perf >= sol.perf:\n",
    "                # Become a child of the existing solution\n",
    "                sol0.children.append(sol)\n",
    "                # Relink corresponding descriptions\n",
    "                sol0.desc += sol.desc\n",
    "                sol.desc.clear()\n",
    "            else:\n",
    "                sol.children.append(sol0)\n",
    "                # Absorb all the children of the previously existing solution\n",
    "                for sol0_chd in sol0.children:\n",
    "                    sol.children.append(sol0_chd)\n",
    "                sol0.children.clear()\n",
    "                # Relink corresponding descriptions\n",
    "                sol.desc += sol0.desc\n",
    "                sol0.desc.clear()\n",
    "                # Update the solution base\n",
    "                cb.solutions.remove(sol0)\n",
    "                cb.solutions.append(sol)\n",
    "        else:\n",
    "            cb.solutions.append(sol)\n",
    "\n",
    "# Initialize the MCNN Case Base\n",
    "mcnn_cb = MCNN_CaseBase(thr_desc=0.6, thr_sol=0.6)\n",
    "# Add the descriptions to the MCNN Case Base\n",
    "# TODO: randomize\n",
    "for desc in descriptions:\n",
    "    add_description(desc, mcnn_cb)\n",
    "\n",
    "for sol in solutions:\n",
    "    add_solution(sol, mcnn_cb)\n"
   ]
  },
  {
   "cell_type": "code",
   "execution_count": 7,
   "metadata": {},
   "outputs": [
    {
     "name": "stdout",
     "output_type": "stream",
     "text": [
      "Solution 0: {Solution 1, Solution 2, Solution 3, Solution 4, Solution 5, Solution 11}\n",
      "Solution 6: {Solution 7, Solution 9, Solution 10, Solution 16, Solution 17, Solution 60, Solution 61, Solution 63, Solution 64, Solution 65, Solution 79, Solution 80, Solution 81, Solution 82, Solution 83, Solution 84, Solution 85, Solution 105, Solution 106, Solution 107, Solution 128, Solution 129, Solution 159, Solution 160, Solution 176, Solution 177, Solution 178, Solution 183, Solution 187, Solution 194, Solution 195, Solution 199, Solution 210, Solution 211, Solution 212, Solution 218, Solution 219, Solution 223, Solution 225, Solution 234, Solution 254, Solution 261, Solution 262}\n",
      "Solution 8: {Solution 18, Solution 19, Solution 87, Solution 88, Solution 97, Solution 98}\n",
      "Solution 12: {Solution 13, Solution 54, Solution 55, Solution 120, Solution 179, Solution 189, Solution 196, Solution 204, Solution 205, Solution 208, Solution 209, Solution 217}\n",
      "Solution 14: {Solution 15, Solution 180, Solution 185, Solution 186, Solution 188, Solution 203, Solution 216, Solution 237, Solution 245, Solution 259, Solution 260}\n",
      "Solution 20: {Solution 21, Solution 22, Solution 23, Solution 24, Solution 25, Solution 26, Solution 27, Solution 28, Solution 29, Solution 30, Solution 31, Solution 32, Solution 33, Solution 34, Solution 35, Solution 36, Solution 37, Solution 38, Solution 39, Solution 40, Solution 41, Solution 42, Solution 43, Solution 44, Solution 45, Solution 46, Solution 47, Solution 48, Solution 49, Solution 50, Solution 51, Solution 52, Solution 53, Solution 56, Solution 57, Solution 58, Solution 66, Solution 67, Solution 68, Solution 69, Solution 70, Solution 71, Solution 72, Solution 73, Solution 74, Solution 75, Solution 76, Solution 77, Solution 78, Solution 86, Solution 89, Solution 90, Solution 91, Solution 92, Solution 93, Solution 94, Solution 95, Solution 96, Solution 99, Solution 100, Solution 101, Solution 102, Solution 108, Solution 109, Solution 110, Solution 111, Solution 112, Solution 113, Solution 114, Solution 115, Solution 116, Solution 117, Solution 118, Solution 119, Solution 126, Solution 127, Solution 131, Solution 137, Solution 138, Solution 139, Solution 140, Solution 141, Solution 142, Solution 143, Solution 144, Solution 145, Solution 146, Solution 148, Solution 155, Solution 156, Solution 157, Solution 158, Solution 161, Solution 162, Solution 163, Solution 164, Solution 165, Solution 166, Solution 167, Solution 168, Solution 169, Solution 173, Solution 174, Solution 175, Solution 181, Solution 182, Solution 200, Solution 201, Solution 220, Solution 221, Solution 226, Solution 227, Solution 230, Solution 236, Solution 248, Solution 249, Solution 252}\n",
      "Solution 59: {Solution 62, Solution 103, Solution 104, Solution 121, Solution 193, Solution 198, Solution 214, Solution 215, Solution 222, Solution 244}\n",
      "Solution 122: {Solution 123, Solution 124, Solution 125, Solution 130, Solution 132, Solution 135, Solution 149, Solution 150, Solution 151, Solution 152, Solution 153, Solution 170, Solution 171, Solution 172}\n",
      "Solution 133: {Solution 134, Solution 136, Solution 147}\n",
      "Solution 154: {Solution 184, Solution 192, Solution 197, Solution 224, Solution 231, Solution 232, Solution 233, Solution 235, Solution 238, Solution 239, Solution 240, Solution 241, Solution 242, Solution 243}\n",
      "Solution 190: {Solution 191, Solution 202, Solution 206, Solution 207, Solution 213, Solution 247, Solution 250}\n",
      "Solution 228: {Solution 229}\n",
      "Solution 246\n",
      "Solution 251: {Solution 253, Solution 255, Solution 256, Solution 257, Solution 258}\n"
     ]
    }
   ],
   "source": [
    "for sol in mcnn_cb.solutions:\n",
    "    print(sol)"
   ]
  },
  {
   "cell_type": "code",
   "execution_count": 5,
   "metadata": {},
   "outputs": [
    {
     "name": "stdout",
     "output_type": "stream",
     "text": [
      "Number of Descriptions: 263\n",
      "Number of Solutions: 263\n"
     ]
    }
   ],
   "source": [
    "desc_num = 0\n",
    "sol_num = 0\n",
    "for desc in mcnn_cb.descriptions:\n",
    "    if isinstance(desc, GC):\n",
    "        desc_num += len(desc.descriptions)\n",
    "        sol_num += len(desc.solutions)\n",
    "    else:\n",
    "        desc_num += 1\n",
    "        sol_num += 1\n",
    "\n",
    "print(f'Number of Descriptions: {desc_num}')\n",
    "print(f'Number of Solutions: {sol_num}')"
   ]
  },
  {
   "cell_type": "code",
   "execution_count": 8,
   "metadata": {},
   "outputs": [
    {
     "name": "stdout",
     "output_type": "stream",
     "text": [
      "Number of Descriptions: 263\n",
      "Number of Solutions: 263\n"
     ]
    }
   ],
   "source": [
    "desc_num = 0\n",
    "sol_num = 0\n",
    "for sol in mcnn_cb.solutions:\n",
    "    desc_num += len(sol.desc)\n",
    "    sol_num += len(sol.children) + 1\n",
    "\n",
    "print(f'Number of Descriptions: {desc_num}')\n",
    "print(f'Number of Solutions: {sol_num}')"
   ]
  }
 ],
 "metadata": {
  "kernelspec": {
   "display_name": ".venv",
   "language": "python",
   "name": "python3"
  },
  "language_info": {
   "codemirror_mode": {
    "name": "ipython",
    "version": 3
   },
   "file_extension": ".py",
   "mimetype": "text/x-python",
   "name": "python",
   "nbconvert_exporter": "python",
   "pygments_lexer": "ipython3",
   "version": "3.12.3"
  }
 },
 "nbformat": 4,
 "nbformat_minor": 2
}
