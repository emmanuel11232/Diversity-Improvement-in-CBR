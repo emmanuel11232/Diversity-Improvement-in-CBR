{
 "cells": [
  {
   "cell_type": "code",
   "execution_count": 1,
   "metadata": {},
   "outputs": [],
   "source": [
    "import pandas as pd\n",
    "import warnings\n",
    "\n",
    "path = r'/home/dwd/proj/Diversity-Improvement-in-CBR/CleanedDATA V12-05-2021.csv'\n",
    "df = pd.read_csv(path, sep=';', encoding='windows-1252')\n",
    "\n",
    "warnings.filterwarnings('ignore')\n",
    "\n",
    "series = df['Publication identifier,,,,,,,,,,,,,,,,,,']\n",
    "for i in range(len(series)):\n",
    "    j_comma = series[i].find(',')\n",
    "    if j_comma > 0:\n",
    "        series[i] = series[i][:j_comma]\n",
    "    \n",
    "df.rename(columns={'Publication identifier,,,,,,,,,,,,,,,,,,': 'Publication identifier'}, inplace=True)\n",
    "# df.to_csv(path, sep=';', index=False, encoding='windows-1252')"
   ]
  },
  {
   "cell_type": "code",
   "execution_count": 2,
   "metadata": {},
   "outputs": [
    {
     "data": {
      "text/plain": [
       "[(Case 0, 1.0),\n",
       " (Case 11, 1.0),\n",
       " (Case 1, 0.9800000000000001),\n",
       " (Case 47, 0.9800000000000001),\n",
       " (Case 48, 0.9800000000000001)]"
      ]
     },
     "execution_count": 2,
     "metadata": {},
     "output_type": "execute_result"
    }
   ],
   "source": [
    "from typing import List, Dict, Tuple\n",
    "from utils.case import Query, Case\n",
    "from utils.casebase import CaseBase\n",
    "from utils.utils import retrieve_topk\n",
    "\n",
    "# Build the case base from the dataframe\n",
    "attr_names = ['Task', 'Case study type', 'Case study', 'Online/Off-line', 'Input for the model',\n",
    "                    'Model Approach', 'Model Type', 'Models', 'Data Pre-processing', 'Complementary notes', 'Publication identifier',\n",
    "                    'Performance indicator', 'Performance', 'Publication Year']\n",
    "df = df[attr_names]\n",
    "cb = CaseBase.from_dataframe(df)\n",
    "\n",
    "# Build the query\n",
    "df_qry = df[attr_names[:5]]\n",
    "query = Query.from_series(df_qry.iloc[0])\n",
    "\n",
    "# Retrieve the top-5 most similar cases to the query.\n",
    "retrieve_topk(query, cb, weights=[1, 1, 1, 1, 1], k=5)\n"
   ]
  }
 ],
 "metadata": {
  "kernelspec": {
   "display_name": ".venv",
   "language": "python",
   "name": "python3"
  },
  "language_info": {
   "codemirror_mode": {
    "name": "ipython",
    "version": 3
   },
   "file_extension": ".py",
   "mimetype": "text/x-python",
   "name": "python",
   "nbconvert_exporter": "python",
   "pygments_lexer": "ipython3",
   "version": "3.12.3"
  }
 },
 "nbformat": 4,
 "nbformat_minor": 2
}
