{
 "cells": [
  {
   "cell_type": "code",
   "execution_count": 1,
   "metadata": {},
   "outputs": [],
   "source": [
    "import pandas as pd\n",
    "import warnings\n",
    "\n",
    "path = r'/home/dwd/proj/Diversity-Improvement-in-CBR/CleanedDATA V12-05-2021.csv'\n",
    "df = pd.read_csv(path, sep=';', encoding='windows-1252')\n",
    "\n",
    "warnings.filterwarnings('ignore')\n",
    "\n",
    "series = df['Publication identifier,,,,,,,,,,,,,,,,,,']\n",
    "for i in range(len(series)):\n",
    "    j_comma = series[i].find(',')\n",
    "    if j_comma > 0:\n",
    "        series[i] = series[i][:j_comma]\n",
    "    \n",
    "df.rename(columns={'Publication identifier,,,,,,,,,,,,,,,,,,': 'Publication identifier'}, inplace=True)\n",
    "# df.to_csv(path, sep=';', index=False, encoding='windows-1252')"
   ]
  },
  {
   "cell_type": "code",
   "execution_count": 2,
   "metadata": {},
   "outputs": [
    {
     "data": {
      "text/plain": [
       "[(Case 0, 1.0),\n",
       " (Case 11, 1.0),\n",
       " (Case 1, 0.9800000000000001),\n",
       " (Case 47, 0.9800000000000001),\n",
       " (Case 48, 0.9800000000000001)]"
      ]
     },
     "execution_count": 2,
     "metadata": {},
     "output_type": "execute_result"
    }
   ],
   "source": [
    "from utils.case import Query, Case, Description, GC, Solution\n",
    "from utils.casebase import CaseBase, MCNN_CaseBase\n",
    "from utils.utils import retrieve_topk\n",
    "\n",
    "# Build the case base from the dataframe\n",
    "attr_names = ['Task', 'Case study type', 'Case study', 'Online/Off-line', 'Input for the model',\n",
    "                    'Model Approach', 'Model Type', 'Models', 'Data Pre-processing', 'Complementary notes', 'Publication identifier',\n",
    "                    'Performance indicator', 'Performance', 'Publication Year']\n",
    "df = df[attr_names]\n",
    "cb = CaseBase.from_dataframe(df)\n",
    "\n",
    "# Build the query\n",
    "df_qry = df[attr_names[:5]]\n",
    "query = Query.from_series(df_qry.iloc[0])\n",
    "\n",
    "# Retrieve the top-5 most similar cases to the query.\n",
    "retrieve_topk(query, cb, weights=[1, 1, 1, 1, 1], k=5)\n"
   ]
  },
  {
   "cell_type": "code",
   "execution_count": 11,
   "metadata": {},
   "outputs": [
    {
     "name": "stdout",
     "output_type": "stream",
     "text": [
      "[Case 111, Case 256, Case 239, Case 176, Case 5, Case 219, Case 243, Case 230, Case 9, Case 123, Case 211, Case 51, Case 262, Case 216, Case 240, Case 220, Case 85, Case 121, Case 221, Case 245, Case 134, Case 202, Case 112, Case 72, Case 66, Case 29, Case 120, Case 65, Case 235, Case 78, Case 238, Case 3, Case 247, Case 128, Case 146, Case 164, Case 170, Case 105, Case 167, Case 196, Case 4, Case 89, Case 15, Case 73, Case 61, Case 84, Case 131, Case 133, Case 242, Case 42, Case 214, Case 236, Case 45, Case 132, Case 255, Case 215, Case 259, Case 119, Case 181, Case 27, Case 99, Case 104, Case 244, Case 260, Case 21, Case 60, Case 161, Case 149, Case 200, Case 79, Case 209, Case 10, Case 191, Case 251, Case 30, Case 135, Case 46, Case 106, Case 2, Case 193, Case 168, Case 124, Case 148, Case 122, Case 175, Case 103, Case 47, Case 19, Case 188, Case 77, Case 95, Case 81, Case 38, Case 254, Case 13, Case 241, Case 22, Case 64, Case 33, Case 100, Case 185, Case 0, Case 159, Case 190, Case 232, Case 37, Case 115, Case 227, Case 82, Case 98, Case 34, Case 205, Case 173, Case 113, Case 198, Case 201, Case 138, Case 225, Case 231, Case 110, Case 70, Case 32, Case 203, Case 189, Case 76, Case 48, Case 197, Case 213, Case 226, Case 228, Case 223, Case 28, Case 261, Case 218, Case 126, Case 130, Case 144, Case 172, Case 199, Case 156, Case 109, Case 152, Case 233, Case 63, Case 35, Case 212, Case 36, Case 208, Case 101, Case 127, Case 153, Case 157, Case 145, Case 54, Case 16, Case 177, Case 102, Case 80, Case 252, Case 192, Case 14, Case 83, Case 237, Case 142, Case 163, Case 69, Case 187, Case 118, Case 182, Case 62, Case 136, Case 43, Case 184, Case 155, Case 18, Case 165, Case 174, Case 68, Case 171, Case 53, Case 90, Case 94, Case 41, Case 93, Case 162, Case 116, Case 224, Case 217, Case 25, Case 248, Case 204, Case 74, Case 58, Case 169, Case 210, Case 17, Case 180, Case 49, Case 147, Case 92, Case 158, Case 160, Case 75, Case 141, Case 20, Case 96, Case 31, Case 137, Case 117, Case 186, Case 11, Case 229, Case 67, Case 246, Case 88, Case 91, Case 24, Case 97, Case 250, Case 26, Case 86, Case 195, Case 249, Case 39, Case 234, Case 87, Case 253, Case 178, Case 40, Case 206, Case 194, Case 1, Case 222, Case 207, Case 257, Case 150, Case 258, Case 56, Case 107, Case 139, Case 179, Case 166, Case 183, Case 50, Case 143, Case 6, Case 154, Case 129, Case 59, Case 55, Case 23, Case 7, Case 8, Case 108, Case 151, Case 44, Case 52, Case 71, Case 114, Case 125, Case 140, Case 12, Case 57]\n",
      "Number of descriptions: 14\n",
      "Number of solutions: 34\n"
     ]
    },
    {
     "data": {
      "text/plain": [
       "[(GC 111, Solution 111, 0.8406335052300437),\n",
       " (GC 111, Solution 176, 0.8406335052300437),\n",
       " (GC 111, Solution 5, 0.8406335052300437),\n",
       " (GC 111, Solution 239, 0.8406335052300437),\n",
       " (GC 111, Solution 211, 0.8406335052300437)]"
      ]
     },
     "execution_count": 11,
     "metadata": {},
     "output_type": "execute_result"
    }
   ],
   "source": [
    "# Apply CBM method - MCNN - to organize the case base.\n",
    "# Initialize the MCNN Case Base\n",
    "mcnn_cb = MCNN_CaseBase(cb.cases, desc_attrs=attr_names[:5], sol_attrs=attr_names[5:], \n",
    "                        thr_desc=0.7, thr_sol=0.7, _seed=42)\n",
    "\n",
    "print(\"Number of descriptions:\", len(mcnn_cb.descriptions))\n",
    "print(\"Number of solutions:\", len(mcnn_cb.solutions))\n",
    "\n",
    "mcnn_cb.retrieve_topk(query, k=5)\n",
    "\n"
   ]
  },
  {
   "cell_type": "code",
   "execution_count": 13,
   "metadata": {},
   "outputs": [
    {
     "data": {
      "text/plain": [
       "[(GC 111, Solution 111, 0.8406335052300437),\n",
       " (GC 111, Solution 176, 0.8406335052300437),\n",
       " (GC 111, Solution 5, 0.8406335052300437),\n",
       " (GC 111, Solution 239, 0.8406335052300437),\n",
       " (GC 111, Solution 211, 0.8406335052300437)]"
      ]
     },
     "execution_count": 13,
     "metadata": {},
     "output_type": "execute_result"
    }
   ],
   "source": [
    "retrieve_topk(query, mcnn_cb, weights=[1, 1, 1, 1, 1], k=5)"
   ]
  },
  {
   "cell_type": "code",
   "execution_count": 5,
   "metadata": {},
   "outputs": [
    {
     "name": "stdout",
     "output_type": "stream",
     "text": [
      "[7, 3, 2, 8, 5, 6, 9, 4, 0, 1]\n"
     ]
    }
   ],
   "source": [
    "import random\n",
    "random.seed(42)\n",
    "l = list(range(10))\n",
    "random.shuffle(l)\n",
    "\n",
    "print(l)"
   ]
  },
  {
   "cell_type": "markdown",
   "metadata": {},
   "source": [
    "### TODO: test & evaluate (similarity, diversity, etc.)"
   ]
  }
 ],
 "metadata": {
  "kernelspec": {
   "display_name": ".venv",
   "language": "python",
   "name": "python3"
  },
  "language_info": {
   "codemirror_mode": {
    "name": "ipython",
    "version": 3
   },
   "file_extension": ".py",
   "mimetype": "text/x-python",
   "name": "python",
   "nbconvert_exporter": "python",
   "pygments_lexer": "ipython3",
   "version": "3.12.3"
  }
 },
 "nbformat": 4,
 "nbformat_minor": 2
}
