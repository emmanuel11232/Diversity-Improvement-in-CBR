{
 "cells": [
  {
   "cell_type": "code",
   "execution_count": 1,
   "metadata": {},
   "outputs": [
    {
     "name": "stderr",
     "output_type": "stream",
     "text": [
      "/tmp/ipykernel_28805/2095857185.py:10: SettingWithCopyWarning: \n",
      "A value is trying to be set on a copy of a slice from a DataFrame\n",
      "\n",
      "See the caveats in the documentation: https://pandas.pydata.org/pandas-docs/stable/user_guide/indexing.html#returning-a-view-versus-a-copy\n",
      "  series[i] = series[i][:j_comma]\n"
     ]
    }
   ],
   "source": [
    "import pandas as pd\n",
    "\n",
    "path = r'/home/dingw/work/CleanedDATA V12-05-2021.csv'\n",
    "df = pd.read_csv(path, sep=';', encoding='windows-1252')\n",
    "\n",
    "series = df['Publication identifier,,,,,,,,,,,,,,,,,,']\n",
    "for i in range(len(series)):\n",
    "    j_comma = series[i].find(',')\n",
    "    if j_comma > 0:\n",
    "        series[i] = series[i][:j_comma]\n",
    "    \n",
    "df.rename(columns={'Publication identifier,,,,,,,,,,,,,,,,,,': 'Publication identifier'}, inplace=True)\n",
    "# df.to_csv(path, sep=';', index=False, encoding='windows-1252')"
   ]
  },
  {
   "cell_type": "code",
   "execution_count": 2,
   "metadata": {},
   "outputs": [],
   "source": []
  },
  {
   "cell_type": "code",
   "execution_count": 6,
   "metadata": {},
   "outputs": [
    {
     "name": "stdout",
     "output_type": "stream",
     "text": [
      "0.9800000000000001\n",
      "0.9800000000000001\n",
      "0.9\n",
      "1.0\n"
     ]
    }
   ],
   "source": [
    "from utils.similarity import *\n",
    "# attribute_name, value, sim_func, weight\n",
    "# ---------------------------------------\n",
    "class Case:\n",
    "    attr_func = {'Task': sim_task, 'Case study type': sim_case_study_type, 'Case study': Levenshtein, \n",
    "                 'Online/Off-line': sim_on_offline, 'Input for the model': Levenshtein\n",
    "                 }\n",
    "\n",
    "    def __init__(self, *args, **kwargs):\n",
    "        attributes = [None] * len(self.attr_func)\n",
    "        for i, attr in enumerate(self.attr_func.keys()):\n",
    "            if i < len(args):\n",
    "                attributes[i] = args[i]\n",
    "            if attr in kwargs:\n",
    "                attributes[i] = kwargs[attr]\n",
    "        \n",
    "        self.attributes = attributes\n",
    "\n",
    "    @classmethod\n",
    "    def from_series(cls, series):\n",
    "        return cls(**series.to_dict())\n",
    "    \n",
    "\n",
    "    def cal_similarity(self, case, weights=[1.0]*len(attr_func)):\n",
    "        assert isinstance(case, Case)\n",
    "        assert len(weights) == len(self.attr_func)\n",
    "\n",
    "        sims = []\n",
    "        for i, (attr, func) in enumerate(self.attr_func.items()):\n",
    "            sims.append(func(self.attributes[i], case.attributes[i]))\n",
    "        global_sim = sum([sim * weight for sim, weight in zip(sims, weights)]) / sum(weights)\n",
    "        return global_sim\n",
    "    \n",
    "s = df.loc[0,['Task', 'Case study type', 'Case study', 'Online/Off-line', 'Input for the model']]\n",
    "c1 = Case.from_series(s)\n",
    "s = df.loc[1,['Task', 'Case study type', 'Case study', 'Online/Off-line', 'Input for the model']]\n",
    "c2 = Case.from_series(s)\n",
    "\n",
    "print(c1.cal_similarity(c2, [1, 1, 1, 1, 1]))\n",
    "print(c2.cal_similarity(c1, [1, 1, 1, 1, 1]))\n",
    "print(c1.cal_similarity(c2, [1, 0, 0, 0, 0]))\n",
    "print(c2.cal_similarity(c2, [1, 1, 1, 1, 1]))"
   ]
  },
  {
   "cell_type": "code",
   "execution_count": 3,
   "metadata": {},
   "outputs": [
    {
     "data": {
      "text/plain": [
       "['Health assessment',\n",
       " 'Rotary machines',\n",
       " 'Simulated jet-engines data',\n",
       " 'Off-line',\n",
       " 'Time series']"
      ]
     },
     "execution_count": 3,
     "metadata": {},
     "output_type": "execute_result"
    }
   ],
   "source": [
    "c2.attributes"
   ]
  },
  {
   "cell_type": "code",
   "execution_count": null,
   "metadata": {},
   "outputs": [],
   "source": []
  }
 ],
 "metadata": {
  "kernelspec": {
   "display_name": "Python 3",
   "language": "python",
   "name": "python3"
  },
  "language_info": {
   "codemirror_mode": {
    "name": "ipython",
    "version": 3
   },
   "file_extension": ".py",
   "mimetype": "text/x-python",
   "name": "python",
   "nbconvert_exporter": "python",
   "pygments_lexer": "ipython3",
   "version": "3.10.12"
  }
 },
 "nbformat": 4,
 "nbformat_minor": 2
}
